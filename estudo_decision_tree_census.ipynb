{
 "cells": [
  {
   "cell_type": "markdown",
   "metadata": {},
   "source": [
    "# Estudo Algoritmo de Classificação Descision Tree\n",
    "- O objetivo deste notebook é o estudo do algoritmo de classificação Descision Tree do scikit-learn.\n",
    "- Vamos utilizar nesse estudo o data set 'census.csv'.\n",
    "- Este dataset contém 15 atributos e 32.561 instâncias (linhas). \n",
    "\n",
    "  <h2>Principais Vantagens x Desvantagens </h2>\n",
    "- <h3>Vantagens </h3>\n",
    "- Não precisa normalização ou padronização\n",
    "- Simplicidade de interpretação\n",
    "- Rápido para classificar novos registros\n",
    "-  <h3>Desvantagens </h3>\n",
    "- Geração de árvores muito complexas\n",
    "- Pequenas mudanças nos dados pode mudar a árvore (poda pode ajudar)\n",
    "- Problema NP-completo para construir a árvore"
   ]
  },
  {
   "cell_type": "code",
   "execution_count": 1,
   "metadata": {},
   "outputs": [],
   "source": [
    "# Importando as bibliotecas iniciais\n",
    "import pandas as pd\n",
    "import numpy as np"
   ]
  },
  {
   "cell_type": "code",
   "execution_count": 2,
   "metadata": {},
   "outputs": [],
   "source": [
    "# Importa o dataset\n",
    "base = pd.read_csv('./census.csv')"
   ]
  },
  {
   "cell_type": "code",
   "execution_count": 3,
   "metadata": {},
   "outputs": [
    {
     "data": {
      "text/plain": [
       "(32561, 15)"
      ]
     },
     "execution_count": 3,
     "metadata": {},
     "output_type": "execute_result"
    }
   ],
   "source": [
    "# Verificando o shape do dataset\n",
    "base.shape"
   ]
  },
  {
   "cell_type": "code",
   "execution_count": 4,
   "metadata": {},
   "outputs": [
    {
     "data": {
      "text/html": [
       "<div>\n",
       "<style scoped>\n",
       "    .dataframe tbody tr th:only-of-type {\n",
       "        vertical-align: middle;\n",
       "    }\n",
       "\n",
       "    .dataframe tbody tr th {\n",
       "        vertical-align: top;\n",
       "    }\n",
       "\n",
       "    .dataframe thead th {\n",
       "        text-align: right;\n",
       "    }\n",
       "</style>\n",
       "<table border=\"1\" class=\"dataframe\">\n",
       "  <thead>\n",
       "    <tr style=\"text-align: right;\">\n",
       "      <th></th>\n",
       "      <th>age</th>\n",
       "      <th>workclass</th>\n",
       "      <th>final-weight</th>\n",
       "      <th>education</th>\n",
       "      <th>education-num</th>\n",
       "      <th>marital-status</th>\n",
       "      <th>occupation</th>\n",
       "      <th>relationship</th>\n",
       "      <th>race</th>\n",
       "      <th>sex</th>\n",
       "      <th>capital-gain</th>\n",
       "      <th>capital-loos</th>\n",
       "      <th>hour-per-week</th>\n",
       "      <th>native-country</th>\n",
       "      <th>income</th>\n",
       "    </tr>\n",
       "  </thead>\n",
       "  <tbody>\n",
       "    <tr>\n",
       "      <th>0</th>\n",
       "      <td>39</td>\n",
       "      <td>State-gov</td>\n",
       "      <td>77516</td>\n",
       "      <td>Bachelors</td>\n",
       "      <td>13</td>\n",
       "      <td>Never-married</td>\n",
       "      <td>Adm-clerical</td>\n",
       "      <td>Not-in-family</td>\n",
       "      <td>White</td>\n",
       "      <td>Male</td>\n",
       "      <td>2174</td>\n",
       "      <td>0</td>\n",
       "      <td>40</td>\n",
       "      <td>United-States</td>\n",
       "      <td>&lt;=50K</td>\n",
       "    </tr>\n",
       "    <tr>\n",
       "      <th>1</th>\n",
       "      <td>50</td>\n",
       "      <td>Self-emp-not-inc</td>\n",
       "      <td>83311</td>\n",
       "      <td>Bachelors</td>\n",
       "      <td>13</td>\n",
       "      <td>Married-civ-spouse</td>\n",
       "      <td>Exec-managerial</td>\n",
       "      <td>Husband</td>\n",
       "      <td>White</td>\n",
       "      <td>Male</td>\n",
       "      <td>0</td>\n",
       "      <td>0</td>\n",
       "      <td>13</td>\n",
       "      <td>United-States</td>\n",
       "      <td>&lt;=50K</td>\n",
       "    </tr>\n",
       "    <tr>\n",
       "      <th>2</th>\n",
       "      <td>38</td>\n",
       "      <td>Private</td>\n",
       "      <td>215646</td>\n",
       "      <td>HS-grad</td>\n",
       "      <td>9</td>\n",
       "      <td>Divorced</td>\n",
       "      <td>Handlers-cleaners</td>\n",
       "      <td>Not-in-family</td>\n",
       "      <td>White</td>\n",
       "      <td>Male</td>\n",
       "      <td>0</td>\n",
       "      <td>0</td>\n",
       "      <td>40</td>\n",
       "      <td>United-States</td>\n",
       "      <td>&lt;=50K</td>\n",
       "    </tr>\n",
       "    <tr>\n",
       "      <th>3</th>\n",
       "      <td>53</td>\n",
       "      <td>Private</td>\n",
       "      <td>234721</td>\n",
       "      <td>11th</td>\n",
       "      <td>7</td>\n",
       "      <td>Married-civ-spouse</td>\n",
       "      <td>Handlers-cleaners</td>\n",
       "      <td>Husband</td>\n",
       "      <td>Black</td>\n",
       "      <td>Male</td>\n",
       "      <td>0</td>\n",
       "      <td>0</td>\n",
       "      <td>40</td>\n",
       "      <td>United-States</td>\n",
       "      <td>&lt;=50K</td>\n",
       "    </tr>\n",
       "    <tr>\n",
       "      <th>4</th>\n",
       "      <td>28</td>\n",
       "      <td>Private</td>\n",
       "      <td>338409</td>\n",
       "      <td>Bachelors</td>\n",
       "      <td>13</td>\n",
       "      <td>Married-civ-spouse</td>\n",
       "      <td>Prof-specialty</td>\n",
       "      <td>Wife</td>\n",
       "      <td>Black</td>\n",
       "      <td>Female</td>\n",
       "      <td>0</td>\n",
       "      <td>0</td>\n",
       "      <td>40</td>\n",
       "      <td>Cuba</td>\n",
       "      <td>&lt;=50K</td>\n",
       "    </tr>\n",
       "  </tbody>\n",
       "</table>\n",
       "</div>"
      ],
      "text/plain": [
       "   age          workclass  final-weight   education  education-num  \\\n",
       "0   39          State-gov         77516   Bachelors             13   \n",
       "1   50   Self-emp-not-inc         83311   Bachelors             13   \n",
       "2   38            Private        215646     HS-grad              9   \n",
       "3   53            Private        234721        11th              7   \n",
       "4   28            Private        338409   Bachelors             13   \n",
       "\n",
       "        marital-status          occupation    relationship    race      sex  \\\n",
       "0        Never-married        Adm-clerical   Not-in-family   White     Male   \n",
       "1   Married-civ-spouse     Exec-managerial         Husband   White     Male   \n",
       "2             Divorced   Handlers-cleaners   Not-in-family   White     Male   \n",
       "3   Married-civ-spouse   Handlers-cleaners         Husband   Black     Male   \n",
       "4   Married-civ-spouse      Prof-specialty            Wife   Black   Female   \n",
       "\n",
       "   capital-gain  capital-loos  hour-per-week  native-country  income  \n",
       "0          2174             0             40   United-States   <=50K  \n",
       "1             0             0             13   United-States   <=50K  \n",
       "2             0             0             40   United-States   <=50K  \n",
       "3             0             0             40   United-States   <=50K  \n",
       "4             0             0             40            Cuba   <=50K  "
      ]
     },
     "execution_count": 4,
     "metadata": {},
     "output_type": "execute_result"
    }
   ],
   "source": [
    "# Visualiza as primeira linhas\n",
    "base.head()"
   ]
  },
  {
   "cell_type": "code",
   "execution_count": 5,
   "metadata": {},
   "outputs": [
    {
     "data": {
      "text/html": [
       "<div>\n",
       "<style scoped>\n",
       "    .dataframe tbody tr th:only-of-type {\n",
       "        vertical-align: middle;\n",
       "    }\n",
       "\n",
       "    .dataframe tbody tr th {\n",
       "        vertical-align: top;\n",
       "    }\n",
       "\n",
       "    .dataframe thead th {\n",
       "        text-align: right;\n",
       "    }\n",
       "</style>\n",
       "<table border=\"1\" class=\"dataframe\">\n",
       "  <thead>\n",
       "    <tr style=\"text-align: right;\">\n",
       "      <th></th>\n",
       "      <th>age</th>\n",
       "      <th>final-weight</th>\n",
       "      <th>education-num</th>\n",
       "      <th>capital-gain</th>\n",
       "      <th>capital-loos</th>\n",
       "      <th>hour-per-week</th>\n",
       "    </tr>\n",
       "  </thead>\n",
       "  <tbody>\n",
       "    <tr>\n",
       "      <th>count</th>\n",
       "      <td>32561.000000</td>\n",
       "      <td>3.256100e+04</td>\n",
       "      <td>32561.000000</td>\n",
       "      <td>32561.000000</td>\n",
       "      <td>32561.000000</td>\n",
       "      <td>32561.000000</td>\n",
       "    </tr>\n",
       "    <tr>\n",
       "      <th>mean</th>\n",
       "      <td>38.581647</td>\n",
       "      <td>1.897784e+05</td>\n",
       "      <td>10.080679</td>\n",
       "      <td>1077.648844</td>\n",
       "      <td>87.303830</td>\n",
       "      <td>40.437456</td>\n",
       "    </tr>\n",
       "    <tr>\n",
       "      <th>std</th>\n",
       "      <td>13.640433</td>\n",
       "      <td>1.055500e+05</td>\n",
       "      <td>2.572720</td>\n",
       "      <td>7385.292085</td>\n",
       "      <td>402.960219</td>\n",
       "      <td>12.347429</td>\n",
       "    </tr>\n",
       "    <tr>\n",
       "      <th>min</th>\n",
       "      <td>17.000000</td>\n",
       "      <td>1.228500e+04</td>\n",
       "      <td>1.000000</td>\n",
       "      <td>0.000000</td>\n",
       "      <td>0.000000</td>\n",
       "      <td>1.000000</td>\n",
       "    </tr>\n",
       "    <tr>\n",
       "      <th>25%</th>\n",
       "      <td>28.000000</td>\n",
       "      <td>1.178270e+05</td>\n",
       "      <td>9.000000</td>\n",
       "      <td>0.000000</td>\n",
       "      <td>0.000000</td>\n",
       "      <td>40.000000</td>\n",
       "    </tr>\n",
       "    <tr>\n",
       "      <th>50%</th>\n",
       "      <td>37.000000</td>\n",
       "      <td>1.783560e+05</td>\n",
       "      <td>10.000000</td>\n",
       "      <td>0.000000</td>\n",
       "      <td>0.000000</td>\n",
       "      <td>40.000000</td>\n",
       "    </tr>\n",
       "    <tr>\n",
       "      <th>75%</th>\n",
       "      <td>48.000000</td>\n",
       "      <td>2.370510e+05</td>\n",
       "      <td>12.000000</td>\n",
       "      <td>0.000000</td>\n",
       "      <td>0.000000</td>\n",
       "      <td>45.000000</td>\n",
       "    </tr>\n",
       "    <tr>\n",
       "      <th>max</th>\n",
       "      <td>90.000000</td>\n",
       "      <td>1.484705e+06</td>\n",
       "      <td>16.000000</td>\n",
       "      <td>99999.000000</td>\n",
       "      <td>4356.000000</td>\n",
       "      <td>99.000000</td>\n",
       "    </tr>\n",
       "  </tbody>\n",
       "</table>\n",
       "</div>"
      ],
      "text/plain": [
       "                age  final-weight  education-num  capital-gain  capital-loos  \\\n",
       "count  32561.000000  3.256100e+04   32561.000000  32561.000000  32561.000000   \n",
       "mean      38.581647  1.897784e+05      10.080679   1077.648844     87.303830   \n",
       "std       13.640433  1.055500e+05       2.572720   7385.292085    402.960219   \n",
       "min       17.000000  1.228500e+04       1.000000      0.000000      0.000000   \n",
       "25%       28.000000  1.178270e+05       9.000000      0.000000      0.000000   \n",
       "50%       37.000000  1.783560e+05      10.000000      0.000000      0.000000   \n",
       "75%       48.000000  2.370510e+05      12.000000      0.000000      0.000000   \n",
       "max       90.000000  1.484705e+06      16.000000  99999.000000   4356.000000   \n",
       "\n",
       "       hour-per-week  \n",
       "count   32561.000000  \n",
       "mean       40.437456  \n",
       "std        12.347429  \n",
       "min         1.000000  \n",
       "25%        40.000000  \n",
       "50%        40.000000  \n",
       "75%        45.000000  \n",
       "max        99.000000  "
      ]
     },
     "execution_count": 5,
     "metadata": {},
     "output_type": "execute_result"
    }
   ],
   "source": [
    "# Verificando os atributos núméricos.\n",
    "base.describe()"
   ]
  },
  {
   "cell_type": "markdown",
   "metadata": {},
   "source": [
    "# Pré-processamento - Tratamento dos dados"
   ]
  },
  {
   "cell_type": "code",
   "execution_count": 6,
   "metadata": {},
   "outputs": [
    {
     "data": {
      "text/plain": [
       "array([[39, ' State-gov', 77516, ..., 0, 40, ' United-States'],\n",
       "       [50, ' Self-emp-not-inc', 83311, ..., 0, 13, ' United-States'],\n",
       "       [38, ' Private', 215646, ..., 0, 40, ' United-States'],\n",
       "       ...,\n",
       "       [58, ' Private', 151910, ..., 0, 40, ' United-States'],\n",
       "       [22, ' Private', 201490, ..., 0, 20, ' United-States'],\n",
       "       [52, ' Self-emp-inc', 287927, ..., 0, 40, ' United-States']],\n",
       "      dtype=object)"
      ]
     },
     "execution_count": 6,
     "metadata": {},
     "output_type": "execute_result"
    }
   ],
   "source": [
    "# Seleciona os atributos previsores\n",
    "previsores = base.iloc[:, 0:14].values\n",
    "previsores"
   ]
  },
  {
   "cell_type": "code",
   "execution_count": 7,
   "metadata": {},
   "outputs": [],
   "source": [
    "# Seleciona a classe alvo (target)\n",
    "classe = base.iloc[:,14]\n",
    "#classe"
   ]
  },
  {
   "cell_type": "code",
   "execution_count": 8,
   "metadata": {},
   "outputs": [
    {
     "data": {
      "text/plain": [
       "array([[39, 7, 77516, ..., 0, 40, 39],\n",
       "       [50, 6, 83311, ..., 0, 13, 39],\n",
       "       [38, 4, 215646, ..., 0, 40, 39],\n",
       "       ...,\n",
       "       [58, 4, 151910, ..., 0, 40, 39],\n",
       "       [22, 4, 201490, ..., 0, 20, 39],\n",
       "       [52, 5, 287927, ..., 0, 40, 39]], dtype=object)"
      ]
     },
     "execution_count": 8,
     "metadata": {},
     "output_type": "execute_result"
    }
   ],
   "source": [
    "# Realiza a codificação dos atributos categóricos. Transforma as categorias em códigos.\n",
    "from sklearn.preprocessing import LabelEncoder\n",
    "\n",
    "label_encoder_previsores = LabelEncoder()\n",
    "previsores[:,1] = label_encoder_previsores.fit_transform(previsores[:,1])\n",
    "previsores[:,3] = label_encoder_previsores.fit_transform(previsores[:,3])\n",
    "previsores[:,5] = label_encoder_previsores.fit_transform(previsores[:,5])\n",
    "previsores[:,6] = label_encoder_previsores.fit_transform(previsores[:,6])\n",
    "previsores[:,7] = label_encoder_previsores.fit_transform(previsores[:,7])\n",
    "previsores[:,8] = label_encoder_previsores.fit_transform(previsores[:,8])\n",
    "previsores[:,9] = label_encoder_previsores.fit_transform(previsores[:,9])\n",
    "previsores[:,13] = label_encoder_previsores.fit_transform(previsores[:,13])\n",
    "previsores"
   ]
  },
  {
   "cell_type": "code",
   "execution_count": 9,
   "metadata": {},
   "outputs": [
    {
     "data": {
      "text/plain": [
       "array([[0., 0., 0., ..., 1., 0., 0.],\n",
       "       [0., 0., 0., ..., 1., 0., 0.],\n",
       "       [0., 0., 0., ..., 1., 0., 0.],\n",
       "       ...,\n",
       "       [0., 0., 0., ..., 1., 0., 0.],\n",
       "       [0., 0., 0., ..., 1., 0., 0.],\n",
       "       [0., 0., 0., ..., 1., 0., 0.]])"
      ]
     },
     "execution_count": 9,
     "metadata": {},
     "output_type": "execute_result"
    }
   ],
   "source": [
    "# Realiza a binarização dos valores inteiros. Técnica chamada: Dummy variables.\n",
    "# Isto é importante para que o algoritmo não considere um valor maior mais importante que um valor menor.\n",
    "# Pelos testes verificamos que se usarmos somente o OneHotEncoder sem realizar o escalonamento temos uma pequena melhora na precisão do Modelo. A acurácia fica em torno de 84.61%. Por isso, vamos deixar ele habilitado.\n",
    "\n",
    "from sklearn.preprocessing import OneHotEncoder\n",
    "\n",
    "oneHotEnconder = OneHotEncoder(categories='auto')\n",
    "previsores = oneHotEnconder.fit_transform(previsores).toarray()\n",
    "previsores"
   ]
  },
  {
   "cell_type": "code",
   "execution_count": 10,
   "metadata": {},
   "outputs": [],
   "source": [
    "# StandardScaler para colocar todos os valores na mesma escala (escalonamento).\n",
    "# Teste do escalonamente de todos atributos, também não tivemos melhoria no modelo. Tivemos o mesma Acurácia de 81.08%. Por isso, vamos deixar ele dasabilitado.\n",
    "\n",
    "#from sklearn.preprocessing import StandardScaler\n",
    "#scaler = StandardScaler()\n",
    "#previsores = scaler.fit_transform(previsores)"
   ]
  },
  {
   "cell_type": "code",
   "execution_count": 11,
   "metadata": {},
   "outputs": [],
   "source": [
    "# StandardScaler para colocar todos os valores na mesma escala (escalonamento).\n",
    "# Teste do escalonamente somente dos atributos inteiros, também não tivemos melhoria no modelo. Tivemos o mesma Acurácia de 81.07%. Por isso, vamos deixar ele dasabilitado também . \n",
    "\n",
    "#from sklearn.preprocessing import StandardScaler\n",
    "#scaler = StandardScaler()\n",
    "\n",
    "#previsores[:,0] =  scaler.fit_transform(previsores[:,0].reshape(-1,1)).ravel()\n",
    "#previsores[:,2] =  scaler.fit_transform(previsores[:,2].reshape(-1,1)).ravel()\n",
    "#previsores[:,4] =  scaler.fit_transform(previsores[:,4].reshape(-1,1)).ravel()\n",
    "#previsores[:,10] =  scaler.fit_transform(previsores[:,10].reshape(-1,1)).ravel()\n",
    "#previsores[:,11] =  scaler.fit_transform(previsores[:,11].reshape(-1,1)).ravel()\n",
    "#previsores[:,12] =  scaler.fit_transform(previsores[:,12].reshape(-1,1)).ravel()\n"
   ]
  },
  {
   "cell_type": "code",
   "execution_count": 12,
   "metadata": {},
   "outputs": [],
   "source": [
    "# Separa os dados pata treinamento e teste\n",
    "from sklearn.model_selection import train_test_split\n",
    "previsores_treinamento, previsores_teste, classe_treinamento, classe_teste = train_test_split(previsores, classe , test_size = 0.25, random_state = 0)\n"
   ]
  },
  {
   "cell_type": "markdown",
   "metadata": {},
   "source": [
    "# Criando o Modelo de Previsão"
   ]
  },
  {
   "cell_type": "code",
   "execution_count": 13,
   "metadata": {},
   "outputs": [
    {
     "data": {
      "text/plain": [
       "DecisionTreeClassifier(class_weight=None, criterion='entropy', max_depth=None,\n",
       "                       max_features=None, max_leaf_nodes=None,\n",
       "                       min_impurity_decrease=0.0, min_impurity_split=None,\n",
       "                       min_samples_leaf=1, min_samples_split=2,\n",
       "                       min_weight_fraction_leaf=0.0, presort=False,\n",
       "                       random_state=0, splitter='best')"
      ]
     },
     "execution_count": 13,
     "metadata": {},
     "output_type": "execute_result"
    }
   ],
   "source": [
    "# Cria o modelo de previsão DecisioncTree Classifier\n",
    "\n",
    "from sklearn.tree import DecisionTreeClassifier\n",
    "# A função para medir a qualidade de seleção dos nós sera a entropia 'entropy'.\n",
    "classificador = DecisionTreeClassifier(criterion='entropy', random_state=0)\n",
    "classificador.fit(previsores_treinamento, classe_treinamento)"
   ]
  },
  {
   "cell_type": "code",
   "execution_count": 14,
   "metadata": {},
   "outputs": [],
   "source": [
    "# Realizando o testes do modelo\n",
    "classe_prevista_teste = classificador.predict(previsores_teste)"
   ]
  },
  {
   "cell_type": "markdown",
   "metadata": {},
   "source": [
    "# Verificando a performance do Modelo"
   ]
  },
  {
   "cell_type": "code",
   "execution_count": 15,
   "metadata": {},
   "outputs": [
    {
     "name": "stdout",
     "output_type": "stream",
     "text": [
      "Acurácia do Modelo: 84.61% \n"
     ]
    }
   ],
   "source": [
    "# Analisando a performance do Modelo\n",
    "from sklearn.metrics import confusion_matrix, accuracy_score,classification_report\n",
    "precisao_modelo = accuracy_score(classe_teste, classe_prevista_teste)\n",
    "print('Acurácia do Modelo: %.2f%% ' % (precisao_modelo*100))\n"
   ]
  },
  {
   "cell_type": "code",
   "execution_count": 16,
   "metadata": {},
   "outputs": [
    {
     "name": "stdout",
     "output_type": "stream",
     "text": [
      "\tRelatório de Classificação do modelo\n",
      "              precision    recall  f1-score   support\n",
      "\n",
      "       <=50K     0.8822    0.9193    0.9004      6159\n",
      "        >50K     0.7115    0.6186    0.6618      1982\n",
      "\n",
      "    accuracy                         0.8461      8141\n",
      "   macro avg     0.7969    0.7689    0.7811      8141\n",
      "weighted avg     0.8407    0.8461    0.8423      8141\n",
      "\n"
     ]
    }
   ],
   "source": [
    "# Relatório de Classificação\n",
    "from sklearn.metrics import classification_report\n",
    "\n",
    "#precision -  daqueles que classifiquei como corretos, quantos efetivamente estavam corretos? \n",
    "#recall    -  quando realmente é da classe XPTO, o quão frequente você classifica como XPTO?\n",
    "#f1-score  -  balanço entre a precisão e o recall. Combina precisão e recall em um número único que indique a qualidade geral do seu modelo (quanto maior melhor o modelo).\n",
    "#support   -  número de ocorrência de cada classe.\n",
    "\n",
    "relatorio_classificacao = classification_report(classe_teste, classe_prevista_teste ,digits=4)\n",
    "\n",
    "# Imprimindo o relatório\n",
    "print('\\tRelatório de Classificação do modelo')\n",
    "print(relatorio_classificacao)"
   ]
  },
  {
   "cell_type": "code",
   "execution_count": 17,
   "metadata": {},
   "outputs": [
    {
     "name": "stdout",
     "output_type": "stream",
     "text": [
      "\n",
      "\n",
      "Obs.: Nas linhas temos as Classes reais e nas colunas as Classes previstas.\n",
      "\n",
      "Matriz de Confusão\n"
     ]
    },
    {
     "data": {
      "text/html": [
       "<div>\n",
       "<style scoped>\n",
       "    .dataframe tbody tr th:only-of-type {\n",
       "        vertical-align: middle;\n",
       "    }\n",
       "\n",
       "    .dataframe tbody tr th {\n",
       "        vertical-align: top;\n",
       "    }\n",
       "\n",
       "    .dataframe thead th {\n",
       "        text-align: right;\n",
       "    }\n",
       "</style>\n",
       "<table border=\"1\" class=\"dataframe\">\n",
       "  <thead>\n",
       "    <tr style=\"text-align: right;\">\n",
       "      <th></th>\n",
       "      <th>0</th>\n",
       "      <th>1</th>\n",
       "    </tr>\n",
       "  </thead>\n",
       "  <tbody>\n",
       "    <tr>\n",
       "      <th>0</th>\n",
       "      <td>5662</td>\n",
       "      <td>497</td>\n",
       "    </tr>\n",
       "    <tr>\n",
       "      <th>1</th>\n",
       "      <td>756</td>\n",
       "      <td>1226</td>\n",
       "    </tr>\n",
       "  </tbody>\n",
       "</table>\n",
       "</div>"
      ],
      "text/plain": [
       "      0     1\n",
       "0  5662   497\n",
       "1   756  1226"
      ]
     },
     "execution_count": 17,
     "metadata": {},
     "output_type": "execute_result"
    }
   ],
   "source": [
    "# Visualizando a Matriz de confusão (confusion matrix)\n",
    "from sklearn.metrics import confusion_matrix\n",
    "cm = confusion_matrix(classe_teste, classe_prevista_teste) \n",
    "\n",
    "df_cm = pd.DataFrame(cm)\n",
    "\n",
    "print('\\n')\n",
    "print('Obs.: Nas linhas temos as Classes reais e nas colunas as Classes previstas.\\n')\n",
    "print('Matriz de Confusão')\n",
    "df_cm"
   ]
  },
  {
   "cell_type": "code",
   "execution_count": 18,
   "metadata": {},
   "outputs": [
    {
     "name": "stdout",
     "output_type": "stream",
     "text": [
      "De 8141 classes o modelo ACERTOU 6888 classes e ERROU 1253 classes.\n",
      " \n"
     ]
    },
    {
     "data": {
      "text/html": [
       "<div>\n",
       "<style scoped>\n",
       "    .dataframe tbody tr th:only-of-type {\n",
       "        vertical-align: middle;\n",
       "    }\n",
       "\n",
       "    .dataframe tbody tr th {\n",
       "        vertical-align: top;\n",
       "    }\n",
       "\n",
       "    .dataframe thead th {\n",
       "        text-align: right;\n",
       "    }\n",
       "</style>\n",
       "<table border=\"1\" class=\"dataframe\">\n",
       "  <thead>\n",
       "    <tr style=\"text-align: right;\">\n",
       "      <th></th>\n",
       "      <th>Classe_Prevista</th>\n",
       "      <th>Classe_Real</th>\n",
       "    </tr>\n",
       "    <tr>\n",
       "      <th>Comparacao</th>\n",
       "      <th></th>\n",
       "      <th></th>\n",
       "    </tr>\n",
       "  </thead>\n",
       "  <tbody>\n",
       "    <tr>\n",
       "      <th>False</th>\n",
       "      <td>1253</td>\n",
       "      <td>1253</td>\n",
       "    </tr>\n",
       "    <tr>\n",
       "      <th>True</th>\n",
       "      <td>6888</td>\n",
       "      <td>6888</td>\n",
       "    </tr>\n",
       "  </tbody>\n",
       "</table>\n",
       "</div>"
      ],
      "text/plain": [
       "            Classe_Prevista  Classe_Real\n",
       "Comparacao                              \n",
       "False                  1253         1253\n",
       "True                   6888         6888"
      ]
     },
     "execution_count": 18,
     "metadata": {},
     "output_type": "execute_result"
    }
   ],
   "source": [
    "# Comparando a Classe Prevista com a Classe Real\n",
    "\n",
    "df = pd.DataFrame( )\n",
    "df['Classe_Prevista'] = classe_prevista_teste\n",
    "df['Classe_Real'] = classe_teste.values\n",
    "df['Comparacao'] = df['Classe_Prevista'] == df['Classe_Real']\n",
    "\n",
    "df_comparacao = df.groupby(by='Comparacao').count()\n",
    "\n",
    "print('De %d classes o modelo ACERTOU %d classes e ERROU %d classes.\\n ' % (df_comparacao['Classe_Prevista'].sum(), df_comparacao.iloc[[1], [0]].values, df_comparacao.iloc[[0], [0]].values))\n",
    "\n",
    "df_comparacao"
   ]
  },
  {
   "cell_type": "markdown",
   "metadata": {},
   "source": [
    "# Resultados do Algoritmo Decision Tree\n",
    "\n",
    "<h3>Testes realizados:</h3>\n",
    "\n",
    "- Precisão: 0.8105 - Decision Tree com: LabelEncoder\n",
    "- Precisão: 0.8461 - Decision Tree com: LabelEncoder + OneHotEncoder\n",
    "- Precisão: 0.8461 - Decision Tree com: LabelEncoder + OneHotEncoder + StandardScaler (Total)\n",
    "- Precisão: 0.8461 - Decision Tree com: LabelEncoder + OneHotEncoder + StandardScaler (Parcial)\n",
    "- Precisão: 0.8108 - Decision Tree com: LabelEncoder + StandardScale (Total)\n",
    "- Precisão: 0.8107 - Decision Tree com: LabelEncoder + StandardScale (Parcial)\n"
   ]
  },
  {
   "cell_type": "markdown",
   "metadata": {},
   "source": [
    "# Resultados do Algoritmo Naive Bayes\n",
    "\n",
    "\n",
    "<h3>Testes realizados:</h3>\n",
    "\n",
    "- Precisão: 0.7947 - Naive Bayes com: LabelEncoder\n",
    "- Precisão: 0.5041 - Naive Bayes com: LabelEncoder + OneHotEncoder\n",
    "- Precisão: 0.4922 - Naive Bayes com: LabelEncoder + OneHotEncoder + StandardScaler (Total)\n",
    "- Precisão: 0.5041 - Naive Bayes com: LabelEncoder + OneHotEncoder + StandardScaler (Parcial)\n",
    "- Precisão: 0.8046 - Naive Bayes com: LabelEncoder + StandardScale (Total)\n",
    "- Precisão: 0.8046 - Naive Bayes com: LabelEncoder + StandardScale (Parcial)\n",
    "\n",
    "<h3>Link do Notebook dos testes do  Algoritmo Naive Bayes</h3>\n",
    "<a href=\"https://github.com/charlessodre/Charles_Estudo_Algoritmo_Naive_Bayes_Census\">Resultados do Algoritmo Naive Bayes</a>"
   ]
  },
  {
   "cell_type": "markdown",
   "metadata": {},
   "source": [
    "# Conclusão:\n",
    "\n",
    "- Podemos observar nos resultados acima que o 'Algoritmo Decision Tree' obteve um melhor resultado em relação ao 'Algoritmo Naive Bayes' para o dataset 'census.csv' quando utilizado os mesmos pré-processamentos ."
   ]
  },
  {
   "cell_type": "code",
   "execution_count": null,
   "metadata": {},
   "outputs": [],
   "source": []
  }
 ],
 "metadata": {
  "kernelspec": {
   "display_name": "Python 3",
   "language": "python",
   "name": "python3"
  },
  "language_info": {
   "codemirror_mode": {
    "name": "ipython",
    "version": 3
   },
   "file_extension": ".py",
   "mimetype": "text/x-python",
   "name": "python",
   "nbconvert_exporter": "python",
   "pygments_lexer": "ipython3",
   "version": "3.7.3"
  }
 },
 "nbformat": 4,
 "nbformat_minor": 4
}
